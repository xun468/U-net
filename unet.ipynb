{
 "cells": [
  {
   "cell_type": "code",
   "execution_count": 1,
   "metadata": {},
   "outputs": [
    {
     "name": "stderr",
     "output_type": "stream",
     "text": [
      "Using TensorFlow backend.\n"
     ]
    }
   ],
   "source": [
    "import keras\n",
    "import model as m\n",
    "from skimage import io\n",
    "from skimage.draw import circle\n",
    "import numpy as np\n",
    "import xml.etree.ElementTree as ET\n",
    "\n",
    "TILE_X = 200\n",
    "TILE_Y = 150"
   ]
  },
  {
   "cell_type": "code",
   "execution_count": null,
   "metadata": {},
   "outputs": [],
   "source": [
    "image = io.imread(\"images/13.tif\")\n",
    "io.imshow(image)"
   ]
  },
  {
   "cell_type": "code",
   "execution_count": null,
   "metadata": {
    "scrolled": false
   },
   "outputs": [],
   "source": [
    "cut = image[:200,:150]\n",
    "\n",
    "mask = np.zeros(cut.shape)\n",
    "\n",
    "io.imshow_collection([cut,mask])\n",
    "# io.imshow(mask)"
   ]
  },
  {
   "cell_type": "code",
   "execution_count": null,
   "metadata": {
    "scrolled": true
   },
   "outputs": [],
   "source": [
    "tree = ET.parse('images/CellCounter_13.xml')\n",
    "root = tree.getroot()\n",
    "\n",
    "for marker in root.iter(\"Marker\"):\n",
    "    y = int(marker[0].text)\n",
    "    x = int(marker[1].text)\n",
    "    if(x < 200 and y < 150):\n",
    "        rr,cc = circle(x,y,6, mask.shape)\n",
    "        mask[rr,cc] = 1\n",
    "\n",
    "io.imshow_collection([cut,mask])"
   ]
  },
  {
   "cell_type": "code",
   "execution_count": null,
   "metadata": {},
   "outputs": [],
   "source": [
    "#get 10 cuts and masks \n",
    "dataset = [\"6\",\"7\",\"8\",\"13\"]\n",
    "imgs_train = []\n",
    "imgs_mask = []\n",
    "\n",
    "for i in dataset:\n",
    "    image = io.imread(\"images/\" + i + \".tif\")\n",
    "    cut = image[:TILE_X,:TILE_Y]\n",
    "    mask = np.zeros(cut.shape)\n",
    "    \n",
    "    #add circles \n",
    "    tree = ET.parse('images/CellCounter_' + i + '.xml')\n",
    "    root = tree.getroot()\n",
    "\n",
    "    for marker in root.iter(\"Marker\"):\n",
    "        y = int(marker[0].text)\n",
    "        x = int(marker[1].text)\n",
    "        if(x < TILE_X and y < TILE_Y):\n",
    "            rr,cc = circle(x,y,6, mask.shape)\n",
    "            mask[rr,cc] = 1\n",
    "    imgs_train.append(cut)\n",
    "    imgs_mask.append(mask)\n",
    "    \n",
    "io.imshow_collection([imgs_train[0],imgs_mask[0]])"
   ]
  },
  {
   "cell_type": "code",
   "execution_count": null,
   "metadata": {},
   "outputs": [],
   "source": [
    "model = m.unet(input_size = (TILE_X,TILE_Y,1))"
   ]
  },
  {
   "cell_type": "code",
   "execution_count": null,
   "metadata": {},
   "outputs": [],
   "source": [
    "model.fit(imgs_train, imgs_mask, batch_size=2, nb_epoch=10, verbose=1,validation_split=0.2, shuffle=True)"
   ]
  }
 ],
 "metadata": {
  "kernelspec": {
   "display_name": "Python 3",
   "language": "python",
   "name": "python3"
  },
  "language_info": {
   "codemirror_mode": {
    "name": "ipython",
    "version": 3
   },
   "file_extension": ".py",
   "mimetype": "text/x-python",
   "name": "python",
   "nbconvert_exporter": "python",
   "pygments_lexer": "ipython3",
   "version": "3.7.3"
  }
 },
 "nbformat": 4,
 "nbformat_minor": 2
}
